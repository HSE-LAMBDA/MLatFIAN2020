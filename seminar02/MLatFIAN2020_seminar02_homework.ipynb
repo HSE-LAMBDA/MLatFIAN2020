{
  "nbformat": 4,
  "nbformat_minor": 0,
  "metadata": {
    "colab": {
      "name": "MLatFIAN2020_seminar02_homework.ipynb",
      "provenance": [],
      "collapsed_sections": [],
      "authorship_tag": "ABX9TyNoo6sh/xZI5XnJTr65kknG",
      "include_colab_link": true
    },
    "kernelspec": {
      "name": "python3",
      "display_name": "Python 3"
    }
  },
  "cells": [
    {
      "cell_type": "markdown",
      "metadata": {
        "id": "view-in-github",
        "colab_type": "text"
      },
      "source": [
        "<a href=\"https://colab.research.google.com/github/HSE-LAMBDA/MLatFIAN2020/blob/master/seminar02/MLatFIAN2020_seminar02_homework.ipynb\" target=\"_parent\"><img src=\"https://colab.research.google.com/assets/colab-badge.svg\" alt=\"Open In Colab\"/></a>"
      ]
    },
    {
      "cell_type": "code",
      "metadata": {
        "id": "OoRenk6WqY4R",
        "colab_type": "code",
        "colab": {}
      },
      "source": [
        "import numpy as np\n",
        "import matplotlib.pyplot as plt"
      ],
      "execution_count": null,
      "outputs": []
    },
    {
      "cell_type": "markdown",
      "metadata": {
        "id": "CT2JoHS6qwO3",
        "colab_type": "text"
      },
      "source": [
        "Consider the following toy dataset:"
      ]
    },
    {
      "cell_type": "code",
      "metadata": {
        "id": "Iw0VSmXsqjt9",
        "colab_type": "code",
        "colab": {}
      },
      "source": [
        "true_function = lambda x: 3.25 * x - 1.47\n",
        "noize_function = lambda x: (\n",
        "    np.random.normal(size=len(x)) * 4. +\n",
        "    np.where(\n",
        "        x < 15,\n",
        "        0.,\n",
        "        -60 + np.random.normal(size=len(x)) * 10\n",
        "    ) * (np.random.uniform(size=len(x)) < 0.4).astype(int)\n",
        ")\n",
        "limits = (-4., 20.)\n",
        "\n",
        "def generate_dataset(N=300):\n",
        "  x = np.random.uniform(*limits, size=N)\n",
        "  y = true_function(x) + noize_function(x)\n",
        "\n",
        "  return x[:,None], y\n",
        "\n",
        "X, y = generate_dataset()\n",
        "\n",
        "x = np.linspace(*limits, 101)\n",
        "plt.plot(x, true_function(x), c='black', label='True dependence')\n",
        "plt.scatter(X, y, s=10, label='Data with noise and outliers')\n",
        "plt.legend();"
      ],
      "execution_count": null,
      "outputs": []
    },
    {
      "cell_type": "markdown",
      "metadata": {
        "id": "s8renktssa3B",
        "colab_type": "text"
      },
      "source": [
        "## Task 1"
      ]
    },
    {
      "cell_type": "markdown",
      "metadata": {
        "id": "Hb2ZSiiiscQy",
        "colab_type": "text"
      },
      "source": [
        "Implement a linear model $\\hat y(x|w) = w_1\\cdot x + w_0$ with MAE loss:\n",
        "$$\\text{MAE}(w) = \\frac{1}{N}\\sum_{i=1}^N\\left|y_i - \\hat y(x_i|w)\\right|,$$\n",
        "using gradient descent optimization in `numpy`.\n",
        "\n",
        "*Hint: introduce a constant feature to account for the bias term to make the formulas simpler.*\n",
        "\n",
        "Plot the learning curve and the final fit. Also, fit the same data with `sklearn`'s `LinearRegression`, and compare the two fits on the same plot. What do you observe? Write a short comment."
      ]
    },
    {
      "cell_type": "code",
      "metadata": {
        "id": "8dUH95L7sETn",
        "colab_type": "code",
        "colab": {}
      },
      "source": [
        "<YOUR CODE>"
      ],
      "execution_count": null,
      "outputs": []
    }
  ]
}