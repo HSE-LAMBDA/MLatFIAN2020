{
  "nbformat": 4,
  "nbformat_minor": 0,
  "metadata": {
    "colab": {
      "name": "MLatFIAN2020_seminar01_part1_DataHandling.ipynb",
      "provenance": [],
      "collapsed_sections": [],
      "toc_visible": true,
      "include_colab_link": true
    },
    "kernelspec": {
      "display_name": "Python 3",
      "language": "python",
      "name": "python3"
    },
    "language_info": {
      "codemirror_mode": {
        "name": "ipython",
        "version": 3
      },
      "file_extension": ".py",
      "mimetype": "text/x-python",
      "name": "python",
      "nbconvert_exporter": "python",
      "pygments_lexer": "ipython3",
      "version": "3.5.2"
    }
  },
  "cells": [
    {
      "cell_type": "markdown",
      "metadata": {
        "id": "view-in-github",
        "colab_type": "text"
      },
      "source": [
        "<a href=\"https://colab.research.google.com/github/HSE-LAMBDA/MLatFIAN2020/blob/master/seminar01/MLatFIAN2020_seminar01.ipynb\" target=\"_parent\"><img src=\"https://colab.research.google.com/assets/colab-badge.svg\" alt=\"Open In Colab\"/></a>"
      ]
    },
    {
      "cell_type": "markdown",
      "metadata": {
        "id": "n_nitmHugcSH",
        "colab_type": "text"
      },
      "source": [
        "# Welcome"
      ]
    },
    {
      "cell_type": "markdown",
      "metadata": {
        "id": "pfojW1Laghph",
        "colab_type": "text"
      },
      "source": [
        "During the practical sessions of the course we are going to use [Python programming language](https://www.python.org) in the [Google Colab environment](https://colab.research.google.com). Alternatively you can download some other python distribution, e.g. [anaconda](https://www.anaconda.com/) and run jupyter locally (see the [docs](https://jupyter.readthedocs.io/en/latest/running.html) for more info).\n",
        " \n",
        " If you are new to Python, please consider reading through the following tutorial:\n",
        " - https://docs.python.org/3.6/tutorial/\n",
        "\n",
        "In particular, the following parts of it should provide a more or less comprehensive introduction to the must-know basics:\n",
        "   - https://docs.python.org/3.6/tutorial/introduction.html\n",
        "   - https://docs.python.org/3.6/tutorial/controlflow.html\n",
        "   - https://docs.python.org/3.6/tutorial/datastructures.html\n",
        "   - https://docs.python.org/3.6/tutorial/modules.html\n",
        "   - https://docs.python.org/3.6/tutorial/classes.html"
      ]
    },
    {
      "cell_type": "markdown",
      "metadata": {
        "id": "wNKpO_suinc-",
        "colab_type": "text"
      },
      "source": [
        "An overview of basic features of the Google Colab environment can be found [here](https://colab.research.google.com/notebooks/basic_features_overview.ipynb)."
      ]
    },
    {
      "cell_type": "markdown",
      "metadata": {
        "colab_type": "text",
        "id": "Aw1cuRi7hhzz"
      },
      "source": [
        "# Titanic: Machine Learning from Disaster"
      ]
    },
    {
      "cell_type": "markdown",
      "metadata": {
        "colab_type": "text",
        "id": "w3muhqoaJXVL"
      },
      "source": [
        "![\"Untergang der Titanic\", as conceived by Willy Stöwer, 1912](https://upload.wikimedia.org/wikipedia/commons/6/6e/St%C3%B6wer_Titanic.jpg)\n",
        "\n",
        "This notebook's gonna teach you to use the basic data science stack for python: jupyter, numpy, matplotlib and sklearn."
      ]
    },
    {
      "cell_type": "markdown",
      "metadata": {
        "colab_type": "text",
        "id": "I_J_iM9Hjwc3"
      },
      "source": [
        "## Part I: Jupyter notebooks recap"
      ]
    },
    {
      "cell_type": "markdown",
      "metadata": {
        "id": "lyB4dc4Lt7xp",
        "colab_type": "text"
      },
      "source": [
        "This whole document you are looking at right now is a **jupyter notebook**. You can think of jupyter as of a browser-friendly python development environment.\n",
        "\n",
        "For each notebook there's a python interpreter running behind the scenes, also called a **kernel**. The notebook consists of **cells** - either *code* cells, or *text* cells. E.g. this text you're reading is in a text cell.\n",
        "\n",
        "An example of a code cell can be found below. You can execute its code by placing the coursor in it and hitting `Shift + Enter`.\n",
        "\n",
        "__please keep running all the code cells as you read__"
      ]
    },
    {
      "cell_type": "code",
      "metadata": {
        "id": "pJak2EJ-vEYd",
        "colab_type": "code",
        "colab": {}
      },
      "source": [
        "print('Hellow world')"
      ],
      "execution_count": null,
      "outputs": []
    },
    {
      "cell_type": "markdown",
      "metadata": {
        "id": "HMZCQoKzvMJv",
        "colab_type": "text"
      },
      "source": [
        "Note that same python session is used to run the code from different cells. So, for example, by defining a variable in one cell, you can re-use it in another:"
      ]
    },
    {
      "cell_type": "code",
      "metadata": {
        "id": "yeSmID9LvKgS",
        "colab_type": "code",
        "colab": {}
      },
      "source": [
        "some_number = 42"
      ],
      "execution_count": null,
      "outputs": []
    },
    {
      "cell_type": "code",
      "metadata": {
        "id": "K7o2AxcoveeN",
        "colab_type": "code",
        "colab": {}
      },
      "source": [
        "some_number**2"
      ],
      "execution_count": null,
      "outputs": []
    },
    {
      "cell_type": "markdown",
      "metadata": {
        "id": "s9QW0Uojvlxh",
        "colab_type": "text"
      },
      "source": [
        "Jupyter allows you to run cells in an arbitrary order, which may make your code a bit messy and complicated to debug. In general it's a good practice to write your code such that it successfully runs from top to bottom in a clean environment. To reset your environment back to a clean state click `Runtime -> Restart runtime` (in regular jupter: `Kernel -> Restart`)."
      ]
    },
    {
      "cell_type": "markdown",
      "metadata": {
        "colab_type": "text",
        "id": "De2BsSxGJXVV"
      },
      "source": [
        "**The most important feature** of jupyter notebooks for this course: \n",
        "* contextual help: the behaviour depends on whether you're running this in google colab or in regular jupyter.\n",
        "  * In colab the suggestions / documentation will appear automatically as you type.\n",
        "  * In regular jupyter if you're typing something, press `Tab` to see automatic suggestions / `Shift + Tab` for function documentation.\n",
        "\n",
        "*Note: here we'll assume you're using google colab*"
      ]
    },
    {
      "cell_type": "code",
      "metadata": {
        "colab_type": "code",
        "id": "5oQdc9MIJXVW",
        "colab": {}
      },
      "source": [
        "# run this first\n",
        "import math"
      ],
      "execution_count": null,
      "outputs": []
    },
    {
      "cell_type": "code",
      "metadata": {
        "colab_type": "code",
        "id": "4FZxJodmJXVZ",
        "colab": {}
      },
      "source": [
        "# Place your cursor at the end of the unfinished line below and \n",
        "# type in '.' to see the contextual help and\n",
        "# find a function that computes arctangent from two parameters (should\n",
        "# have 2 in it's name).\n",
        "# Once you chose it, put an opening bracket character to\n",
        "# see the docs.\n",
        "\n",
        "math  # <--- type in a '.' symbol to see suggestions"
      ],
      "execution_count": null,
      "outputs": []
    },
    {
      "cell_type": "markdown",
      "metadata": {
        "colab_type": "text",
        "id": "-cY1PEyznRYw"
      },
      "source": [
        "## Part II: Numpy and vectorized computing"
      ]
    },
    {
      "cell_type": "markdown",
      "metadata": {
        "colab_type": "text",
        "id": "4luG6vWXJXWU"
      },
      "source": [
        "Almost any machine learning model requires some computational heavy lifting usually involving linear algebra problems. Unfortunately, raw python is terrible at this because each operation is interpreted at runtime. \n",
        "\n",
        "So instead, we'll use `numpy` - a library that lets you run blazing fast computation with vectors, matrices and other tensors. It's written in lower-level programming languages like C or Fortran and only uses python as an interface.\n",
        "\n",
        "Quoting [documentation](https://numpy.org/devdocs/user/quickstart.html):\n",
        "> NumPy’s main object is the homogeneous multidimensional array. It is a table of elements (usually numbers), all of the same type, indexed by a tuple of non-negative integers. In NumPy dimensions are called axes.\n",
        "\n",
        "\n",
        "\n",
        "\n",
        "This object is called `numpy.ndarray` (\"nd\" standing for \"N-dimensional\"). It is also aliased to `numpy.array`:"
      ]
    },
    {
      "cell_type": "code",
      "metadata": {
        "colab_type": "code",
        "id": "gcTokNL-JXWV",
        "colab": {}
      },
      "source": [
        "import numpy as np\n",
        "\n",
        "a = np.array([1,2,3,4,5])\n",
        "b = np.array([5,4,3,2,1])\n",
        "print(\"a = \", a)\n",
        "print(\"b = \", b)\n",
        "\n",
        "# math and boolean operations can applied to each element of an array\n",
        "print(\"a + 1 =\", a + 1)\n",
        "print(\"a * 2 =\", a * 2)\n",
        "print(\"a == 2\", a == 2)\n",
        "# ... or corresponding elements of two (or more) arrays\n",
        "print(\"a + b =\", a + b)\n",
        "print(\"a * b =\", a * b)"
      ],
      "execution_count": null,
      "outputs": []
    },
    {
      "cell_type": "code",
      "metadata": {
        "colab_type": "code",
        "id": "40slF_H1JXWY",
        "colab": {}
      },
      "source": [
        "# Your turn: compute half-products of a and b elements (halves of products)\n",
        "<YOUR CODE>"
      ],
      "execution_count": null,
      "outputs": []
    },
    {
      "cell_type": "code",
      "metadata": {
        "colab_type": "code",
        "id": "EnNXgtaaJXWa",
        "colab": {}
      },
      "source": [
        "# compute elementwise quotient between squared a and (b plus 1)\n",
        "<YOUR CODE>"
      ],
      "execution_count": null,
      "outputs": []
    },
    {
      "cell_type": "markdown",
      "metadata": {
        "colab_type": "text",
        "id": "KSkrSyKTnJBp"
      },
      "source": [
        "```\n",
        "\n",
        "```\n",
        "\n",
        "```\n",
        "\n",
        "```\n",
        "\n",
        "```\n",
        "\n",
        "```\n",
        "\n",
        "```\n",
        "\n",
        "```\n",
        "\n",
        "```\n",
        "\n",
        "```"
      ]
    },
    {
      "cell_type": "markdown",
      "metadata": {
        "colab_type": "text",
        "id": "uHV6HlQgoL-r"
      },
      "source": [
        "There's a number of functions to create arrays of zeros, ones, ascending/descending numbers etc.:"
      ]
    },
    {
      "cell_type": "code",
      "metadata": {
        "colab_type": "code",
        "id": "dCqkfcCWoi1I",
        "colab": {}
      },
      "source": [
        "np.zeros(shape=(3, 4))"
      ],
      "execution_count": null,
      "outputs": []
    },
    {
      "cell_type": "code",
      "metadata": {
        "colab_type": "code",
        "id": "NAee3VdtorX8",
        "colab": {}
      },
      "source": [
        "np.ones(shape=(2, 5), dtype=np.bool)"
      ],
      "execution_count": null,
      "outputs": []
    },
    {
      "cell_type": "code",
      "metadata": {
        "colab_type": "code",
        "id": "ymW4lMqpozFn",
        "colab": {}
      },
      "source": [
        "np.arange(3, 15, 2) # start, stop, step"
      ],
      "execution_count": null,
      "outputs": []
    },
    {
      "cell_type": "code",
      "metadata": {
        "colab_type": "code",
        "id": "KQi-FGqto_ty",
        "colab": {}
      },
      "source": [
        "np.linspace(0, 10, 11) # divide [0, 10] interval into 11 points"
      ],
      "execution_count": null,
      "outputs": []
    },
    {
      "cell_type": "code",
      "metadata": {
        "colab_type": "code",
        "id": "7d7MlvuqpJ0S",
        "colab": {}
      },
      "source": [
        "np.logspace(1, 10, 10, base=2, dtype=np.int64)"
      ],
      "execution_count": null,
      "outputs": []
    },
    {
      "cell_type": "markdown",
      "metadata": {
        "colab_type": "text",
        "id": "C4hb3shSpdBf"
      },
      "source": [
        "You can easily reshape arrays:"
      ]
    },
    {
      "cell_type": "code",
      "metadata": {
        "colab_type": "code",
        "id": "83xNeecTphm4",
        "colab": {}
      },
      "source": [
        "np.arange(24).reshape(2, 3, 4)"
      ],
      "execution_count": null,
      "outputs": []
    },
    {
      "cell_type": "markdown",
      "metadata": {
        "colab_type": "text",
        "id": "F_evgKCtpzpk"
      },
      "source": [
        "or add dimensions of size 1:"
      ]
    },
    {
      "cell_type": "code",
      "metadata": {
        "colab_type": "code",
        "id": "It_JTbIiqCTH",
        "colab": {}
      },
      "source": [
        "print(np.arange(3)[:, np.newaxis])\n",
        "print('---')\n",
        "print(np.arange(3)[np.newaxis, :])\n",
        "\n",
        "#### Or similarly:\n",
        "\n",
        "# print(np.arange(3)[:, None])\n",
        "# print('---')\n",
        "# print(np.arange(3)[None, :])"
      ],
      "execution_count": null,
      "outputs": []
    },
    {
      "cell_type": "markdown",
      "metadata": {
        "colab_type": "text",
        "id": "4eE5Uq8GqO75"
      },
      "source": [
        "Such dimensions are automatically broadcast when doing mathematical operations:"
      ]
    },
    {
      "cell_type": "code",
      "metadata": {
        "colab_type": "code",
        "id": "VmO2UtjtqcEU",
        "colab": {}
      },
      "source": [
        "print(np.arange(3)[:, np.newaxis] + np.zeros(shape=(3, 3), dtype=int))\n",
        "print()\n",
        "print(np.arange(3)[np.newaxis, :] + np.zeros(shape=(3, 3), dtype=int))"
      ],
      "execution_count": null,
      "outputs": []
    },
    {
      "cell_type": "markdown",
      "metadata": {
        "colab_type": "text",
        "id": "pfmFlVopqzId"
      },
      "source": [
        "There is also a number of ways to stack arrays together:"
      ]
    },
    {
      "cell_type": "code",
      "metadata": {
        "colab_type": "code",
        "id": "WzfKzymGq3wX",
        "colab": {}
      },
      "source": [
        "matrix1 = np.arange(50).reshape(10, 5)\n",
        "matrix2 = -np.arange(20).reshape(10, 2)\n",
        "\n",
        "np.concatenate([matrix1, matrix2], axis=1)"
      ],
      "execution_count": null,
      "outputs": []
    },
    {
      "cell_type": "code",
      "metadata": {
        "colab_type": "code",
        "id": "EqJnzNehrYYP",
        "colab": {}
      },
      "source": [
        "A = matrix1[:,0]\n",
        "B = matrix2[:,0]\n",
        "\n",
        "print(A)\n",
        "print('---')\n",
        "print(B)\n",
        "print('---')\n",
        "print(np.stack([A, B], axis=1))\n",
        "\n"
      ],
      "execution_count": null,
      "outputs": []
    },
    {
      "cell_type": "markdown",
      "metadata": {
        "colab_type": "text",
        "id": "MulZJhPBr6ie"
      },
      "source": [
        "Any matrix can be transposed easily:"
      ]
    },
    {
      "cell_type": "code",
      "metadata": {
        "colab_type": "code",
        "id": "KIeOCQ-wr_Q6",
        "colab": {}
      },
      "source": [
        "print(matrix2)\n",
        "print('---')\n",
        "print(matrix2.T)"
      ],
      "execution_count": null,
      "outputs": []
    },
    {
      "cell_type": "code",
      "metadata": {
        "id": "SIceEFFiMK5k",
        "colab_type": "code",
        "colab": {}
      },
      "source": [
        "print('matrix2.shape =', matrix2.shape)\n",
        "print('matrix2.T.shape =', matrix2.T.shape)"
      ],
      "execution_count": null,
      "outputs": []
    },
    {
      "cell_type": "code",
      "metadata": {
        "colab_type": "code",
        "id": "WnajGvSrsP-t",
        "colab": {}
      },
      "source": [
        "# Your turn: make a (7 x 5) matrix with e_ij = i\n",
        "# (i - row number, j - column number)\n",
        "#\n",
        "# Avoid using loops.\n",
        "\n",
        "<YOUR CODE>"
      ],
      "execution_count": null,
      "outputs": []
    },
    {
      "cell_type": "markdown",
      "metadata": {
        "colab_type": "text",
        "id": "56X724n8nNK9"
      },
      "source": [
        "### How fast is it?"
      ]
    },
    {
      "cell_type": "markdown",
      "metadata": {
        "colab_type": "text",
        "id": "J7ugCw1wJXWc"
      },
      "source": [
        "Let's compare computation time for python and numpy\n",
        "* Two arrays of 10^6 elements\n",
        " * first - from 0 to 1 000 000\n",
        " * second - from 99 to 1 000 099\n",
        " \n",
        "* Computing:\n",
        " * elemwise sum\n",
        " * elemwise product\n",
        " * square root of first array\n",
        " * sum of all elements in the first array\n",
        " "
      ]
    },
    {
      "cell_type": "code",
      "metadata": {
        "colab_type": "code",
        "id": "hkaH4AkUJXWd",
        "colab": {}
      },
      "source": [
        "%%time \n",
        "# ^-- this \"magic\" measures and prints cell computation time\n",
        "\n",
        "# Option I: pure python\n",
        "arr_1 = range(1000000)\n",
        "arr_2 = range(99,1000099)\n",
        "\n",
        "\n",
        "a_sum = []\n",
        "a_prod = []\n",
        "sqrt_a1 = []\n",
        "for i in range(len(arr_1)):\n",
        "    a_sum.append(arr_1[i]+arr_2[i])\n",
        "    a_prod.append(arr_1[i]*arr_2[i])\n",
        "    a_sum.append(arr_1[i]**0.5)\n",
        "    \n",
        "arr_1_sum = sum(arr_1)\n"
      ],
      "execution_count": null,
      "outputs": []
    },
    {
      "cell_type": "code",
      "metadata": {
        "colab_type": "code",
        "id": "BasUnM6uJXWf",
        "colab": {}
      },
      "source": [
        "%%time\n",
        "\n",
        "# Option II: start from python, convert to numpy\n",
        "arr_1 = range(1000000)\n",
        "arr_2 = range(99,1000099)\n",
        "\n",
        "arr_1, arr_2 = np.array(arr_1) , np.array(arr_2)\n",
        "\n",
        "\n",
        "a_sum = arr_1 + arr_2\n",
        "a_prod = arr_1 * arr_2\n",
        "sqrt_a1 = arr_1 ** .5\n",
        "arr_1_sum = arr_1.sum()\n"
      ],
      "execution_count": null,
      "outputs": []
    },
    {
      "cell_type": "code",
      "metadata": {
        "colab_type": "code",
        "id": "whU6BvJ6JXWi",
        "colab": {}
      },
      "source": [
        "%%time\n",
        "\n",
        "# Option III: pure numpy\n",
        "arr_1 = np.arange(1000000)\n",
        "arr_2 = np.arange(99,1000099)\n",
        "\n",
        "a_sum = arr_1 + arr_2\n",
        "a_prod = arr_1 * arr_2\n",
        "sqrt_a1 = arr_1 ** .5\n",
        "arr_1_sum = arr_1.sum()\n"
      ],
      "execution_count": null,
      "outputs": []
    },
    {
      "cell_type": "markdown",
      "metadata": {
        "colab_type": "text",
        "id": "7Jc5_Z5wJXWl"
      },
      "source": [
        "If you want more serious benchmarks, take a look at [this](http://brilliantlywrong.blogspot.ru/2015/01/benchmarks-of-speed-numpy-vs-all.html)."
      ]
    },
    {
      "cell_type": "markdown",
      "metadata": {
        "colab_type": "text",
        "id": "H2cYqf_UJXWm"
      },
      "source": [
        "```\n",
        "\n",
        "```\n",
        "\n",
        "```\n",
        "\n",
        "```\n",
        "\n",
        "```\n",
        "\n",
        "```\n",
        "\n",
        "```\n",
        "\n",
        "```\n",
        "\n",
        "```\n",
        "\n",
        "```\n",
        "\n",
        "```\n",
        "\n",
        "```\n",
        "\n",
        "```\n",
        "\n",
        "```"
      ]
    },
    {
      "cell_type": "markdown",
      "metadata": {
        "colab_type": "text",
        "id": "OPtaPKy3uI6A"
      },
      "source": [
        "### Other numpy functions and features"
      ]
    },
    {
      "cell_type": "markdown",
      "metadata": {
        "colab_type": "text",
        "id": "S-8KaYRmuM4m"
      },
      "source": [
        "There's also a bunch of pre-implemented operations including logarithms, trigonometry, vector/matrix products and aggregations."
      ]
    },
    {
      "cell_type": "code",
      "metadata": {
        "colab_type": "code",
        "id": "RklGSklbJXWn",
        "colab": {}
      },
      "source": [
        "a = np.array([1,2,3,4,5])\n",
        "b = np.array([5,4,3,2,1])\n",
        "print(\"numpy.sum(a) = \", np.sum(a))\n",
        "print(\"numpy.mean(a) = \", np.mean(a))\n",
        "print(\"numpy.min(a) = \",  np.min(a))\n",
        "print(\"numpy.argmin(b) = \", np.argmin(b))  # index of minimal element\n",
        "print(\"numpy.dot(a,b) = \", np.dot(a, b))      # dot product. Also used for matrix/tensor multiplication\n",
        "print(\"numpy.unique(['male','male','female','female','male']) = \", np.unique(['male','male','female','female','male']))\n",
        "\n",
        "# and tons of other stuff. see http://bit.ly/2u5q430 ."
      ],
      "execution_count": null,
      "outputs": []
    },
    {
      "cell_type": "code",
      "metadata": {
        "id": "4N_kpGw3NcGk",
        "colab_type": "code",
        "colab": {}
      },
      "source": [
        "# most of this functions are also implemented as members of numpy arrays, e.g.:\n",
        "print('a.min() =', a.min())\n",
        "print('a.mean() =', a.mean())"
      ],
      "execution_count": null,
      "outputs": []
    },
    {
      "cell_type": "code",
      "metadata": {
        "colab_type": "code",
        "id": "Jkq07GT5JXW0",
        "colab": {}
      },
      "source": [
        "print(\"Boolean operations\")\n",
        "\n",
        "print('a = ', a)\n",
        "print('b = ', b)\n",
        "print(\"a > 2\", a > 2)\n",
        "print(\"numpy.logical_not(a>2) = \", np.logical_not(a>2))\n",
        "print(\"numpy.logical_and(a>2,b>2) = \", np.logical_and(a > 2,b > 2))\n",
        "print(\"numpy.logical_or(a>2,b<3) = \", np.logical_or(a > 2, b < 3))\n",
        "\n",
        "print(\"\\n shortcuts\")\n",
        "print(\"~(a > 2) = \", ~(a > 2))                    #logical_not(a > 2)\n",
        "print(\"(a > 2) & (b > 2) = \", (a > 2) & (b > 2))  #logical_and\n",
        "print(\"(a > 2) | (b < 3) = \", (a > 2) | (b < 3))  #logical_or"
      ],
      "execution_count": null,
      "outputs": []
    },
    {
      "cell_type": "markdown",
      "metadata": {
        "colab_type": "text",
        "id": "VBkDTTOLJXW3"
      },
      "source": [
        "Another numpy feature we'll need is indexing: selecting elements from an array. \n",
        "Aside from python indexes and slices (e.g. a[1:4]), numpy also allows you to select several elements at once."
      ]
    },
    {
      "cell_type": "code",
      "metadata": {
        "id": "RDtdSCMAPyLL",
        "colab_type": "code",
        "colab": {}
      },
      "source": [
        "a = np.arange(24).reshape(4, 6)\n",
        "print(a)\n",
        "print('---')\n",
        "print(a[1:3,0:6:2])"
      ],
      "execution_count": null,
      "outputs": []
    },
    {
      "cell_type": "code",
      "metadata": {
        "colab_type": "code",
        "id": "MhXHB6fgJXW4",
        "colab": {}
      },
      "source": [
        "a = np.array([0, 1, 4, 9, 16, 25])\n",
        "ix = np.array([1,2,5])\n",
        "print(\"a = \", a)\n",
        "print(\"Select by element index\")\n",
        "print(\"a[[1,2,5]] = \", a[ix])\n",
        "\n",
        "print(\"\\nSelect by boolean mask\")\n",
        "print(\"a[a > 5] = \", a[a > 5])     # select all elements in a that are greater than 5\n",
        "print(\"(a % 2 == 0) =\", a % 2 == 0) # True for even, False for odd\n",
        "print(\"a[a % 2 == 0] =\", a[a % 2 == 0]) # select all elements in a that are even"
      ],
      "execution_count": null,
      "outputs": []
    },
    {
      "cell_type": "markdown",
      "metadata": {
        "colab_type": "text",
        "id": "iD6NjAugj_3y"
      },
      "source": [
        "## Part III: Loading data with Pandas"
      ]
    },
    {
      "cell_type": "markdown",
      "metadata": {
        "colab_type": "text",
        "id": "K0OYaO-6JXVb"
      },
      "source": [
        "Pandas is a library that helps you load the data, prepare it and perform some lightweight analysis. The god object here is the `pandas.DataFrame` - a 2d table with batteries included (it actually runs numpy under the hood).\n",
        "\n",
        "In the cell below we use it to read the data on the infamous titanic shipwreck."
      ]
    },
    {
      "cell_type": "code",
      "metadata": {
        "id": "4CWHxPY62I-D",
        "colab_type": "code",
        "colab": {}
      },
      "source": [
        "!wget https://github.com/HSE-LAMBDA/MLatFIAN2020/raw/master/seminar01/train.csv"
      ],
      "execution_count": null,
      "outputs": []
    },
    {
      "cell_type": "code",
      "metadata": {
        "colab_type": "code",
        "id": "G36oVo3RJXVc",
        "colab": {}
      },
      "source": [
        "import pandas as pd\n",
        "data = pd.read_csv(\"train.csv\", index_col='PassengerId') # this yields a pandas.DataFrame"
      ],
      "execution_count": null,
      "outputs": []
    },
    {
      "cell_type": "code",
      "metadata": {
        "colab_type": "code",
        "id": "gEvLO4nvJXVf",
        "colab": {}
      },
      "source": [
        "# Take a look at the data\n",
        "\n",
        "data.head() # selects top 5 lines"
      ],
      "execution_count": null,
      "outputs": []
    },
    {
      "cell_type": "markdown",
      "metadata": {
        "colab_type": "text",
        "id": "EDHw3sHgJXVj"
      },
      "source": [
        "#### About the data\n",
        "Here's some of the columns\n",
        "* Name - a string with person's full name\n",
        "* Survived - 1 if a person survived the shipwreck, 0 otherwise.\n",
        "* Pclass - passenger class. Pclass == 3 is cheap'n'cheerful, Pclass == 1 is for moneybags.\n",
        "* Sex - a person's gender\n",
        "* Age - age in years, if available\n",
        "* Sibsp - number of siblings on a ship\n",
        "* Parch - number of parents on a ship\n",
        "* Fare - ticket cost\n",
        "* Embarked - port where the passenger embarked\n",
        " * C = Cherbourg; Q = Queenstown; S = Southampton"
      ]
    },
    {
      "cell_type": "code",
      "metadata": {
        "colab_type": "code",
        "id": "PWmRBFP6JXVl",
        "colab": {}
      },
      "source": [
        "# table dimensions\n",
        "print(\"len(data) = \", len(data))\n",
        "print(\"data.shape = \", data.shape)"
      ],
      "execution_count": null,
      "outputs": []
    },
    {
      "cell_type": "code",
      "metadata": {
        "colab_type": "code",
        "id": "dt6itIHBJXVn",
        "colab": {}
      },
      "source": [
        "# select a single row\n",
        "print(data.loc[4])"
      ],
      "execution_count": null,
      "outputs": []
    },
    {
      "cell_type": "code",
      "metadata": {
        "colab_type": "code",
        "id": "wdpiKMr7JXVq",
        "colab": {}
      },
      "source": [
        "# select a single column.\n",
        "ages = data[\"Age\"] # alternatively: data.Age\n",
        "print(ages.loc[:10])"
      ],
      "execution_count": null,
      "outputs": []
    },
    {
      "cell_type": "code",
      "metadata": {
        "colab_type": "code",
        "id": "-ao3OhDtJXVu",
        "colab": {}
      },
      "source": [
        "# select several columns and rows at once\n",
        "data.loc[5:10, (\"Fare\", \"Pclass\")]    # alternatively: data[[\"Fare\",\"Pclass\"]].loc[5:10]"
      ],
      "execution_count": null,
      "outputs": []
    },
    {
      "cell_type": "markdown",
      "metadata": {
        "colab_type": "text",
        "id": "h7jqzyjLp9qe"
      },
      "source": [
        "### `loc` vs `iloc`"
      ]
    },
    {
      "cell_type": "markdown",
      "metadata": {
        "colab_type": "text",
        "id": "qR-MSiiiqDB4"
      },
      "source": [
        "There are two ways of indexing the rows in pandas:\n",
        " *   by index column values (`PassengerId` in our case) – use `data.loc` for that\n",
        " *   by positional index - use `data.iloc` for that"
      ]
    },
    {
      "cell_type": "markdown",
      "metadata": {
        "colab_type": "text",
        "id": "uXCOFn0Fqr1M"
      },
      "source": [
        "Note that index column starts from 1, so positional index 0 will correspond to index column value 1, positional 1 to index column value 2, and so on:"
      ]
    },
    {
      "cell_type": "code",
      "metadata": {
        "colab_type": "code",
        "id": "PWD9vfcIqjAH",
        "colab": {}
      },
      "source": [
        "print(data.index)\n",
        "print('------')\n",
        "print(\"data.iloc[0]:\")\n",
        "print(data.iloc[0])\n",
        "print('------')\n",
        "print(\"data.loc[1]:\")\n",
        "print(data.loc[1])"
      ],
      "execution_count": null,
      "outputs": []
    },
    {
      "cell_type": "markdown",
      "metadata": {
        "id": "zqkU4nzfgxok",
        "colab_type": "text"
      },
      "source": [
        "Also note that when indexing with `.loc` both slice ends are included:"
      ]
    },
    {
      "cell_type": "code",
      "metadata": {
        "id": "lI0C2cG8g3To",
        "colab_type": "code",
        "colab": {}
      },
      "source": [
        "data.loc[2:3]"
      ],
      "execution_count": null,
      "outputs": []
    },
    {
      "cell_type": "markdown",
      "metadata": {
        "id": "kMf9SqMwg7Uw",
        "colab_type": "text"
      },
      "source": [
        "while with `.iloc` the end is excluded:"
      ]
    },
    {
      "cell_type": "code",
      "metadata": {
        "id": "S5JFLNVag6aP",
        "colab_type": "code",
        "colab": {}
      },
      "source": [
        "data.iloc[1:2]"
      ],
      "execution_count": null,
      "outputs": []
    },
    {
      "cell_type": "markdown",
      "metadata": {
        "id": "FJgo08cJi6i6",
        "colab_type": "text"
      },
      "source": [
        "More complicated indexing (similar to boolean indexing in numpy):"
      ]
    },
    {
      "cell_type": "code",
      "metadata": {
        "id": "aMkc1lqHPjAo",
        "colab_type": "code",
        "colab": {}
      },
      "source": [
        "print(\"data[(data['Age'] < 18) & (data['Sex'] == 'male')] = (below)\") # select male children\n",
        "data.loc[(data['Age'] < 18) & (data['Sex'] == 'male')]"
      ],
      "execution_count": null,
      "outputs": []
    },
    {
      "cell_type": "markdown",
      "metadata": {
        "colab_type": "text",
        "id": "ln3hUck0JXVx"
      },
      "source": [
        "### Your turn:\n"
      ]
    },
    {
      "cell_type": "code",
      "metadata": {
        "colab_type": "code",
        "id": "r0surSILJXVy",
        "colab": {}
      },
      "source": [
        "# select passengers number 13 and 666 - did they survive?\n",
        "\n",
        "<YOUR CODE>"
      ],
      "execution_count": null,
      "outputs": []
    },
    {
      "cell_type": "code",
      "metadata": {
        "colab_type": "code",
        "id": "WfL_YYOVJXV3",
        "colab": {}
      },
      "source": [
        "# compute the overall survival rate (what fraction of passengers survived the shipwreck)\n",
        "\n",
        "<YOUR CODE>"
      ],
      "execution_count": null,
      "outputs": []
    },
    {
      "cell_type": "markdown",
      "metadata": {
        "colab_type": "text",
        "id": "NaDF00ADJXV7"
      },
      "source": [
        "```\n",
        "\n",
        "```\n",
        "\n",
        "```\n",
        "\n",
        "```\n",
        "\n",
        "```\n",
        "\n",
        "```\n",
        "\n",
        "```\n",
        "\n",
        "```\n",
        "\n",
        "```\n",
        "\n",
        "```\n",
        "\n",
        "```\n",
        "\n",
        "```\n",
        "\n",
        "```\n",
        "\n",
        "```\n",
        "\n"
      ]
    },
    {
      "cell_type": "markdown",
      "metadata": {
        "colab_type": "text",
        "id": "dZAezJgDJXV8"
      },
      "source": [
        "Pandas also has some basic data analysis tools. For one, you can quickly display statistical aggregates for each column using `.describe()`"
      ]
    },
    {
      "cell_type": "code",
      "metadata": {
        "colab_type": "code",
        "id": "yHtn-GlbJXV8",
        "colab": {}
      },
      "source": [
        "data.describe()"
      ],
      "execution_count": null,
      "outputs": []
    },
    {
      "cell_type": "markdown",
      "metadata": {
        "colab_type": "text",
        "id": "hp-OG6bOJXWA"
      },
      "source": [
        "Some columns contain __NaN__ values - this means that there is no data there. For example, passenger `#5` has unknown age. To simplify the future data analysis, we'll replace NaN values by using pandas `fillna` function.\n",
        "\n",
        "_Note: we do this so easily because it's a tutorial. In general, you think twice before you modify data like this._"
      ]
    },
    {
      "cell_type": "code",
      "metadata": {
        "colab_type": "code",
        "id": "h62nzR9vJXWB",
        "colab": {}
      },
      "source": [
        "data.iloc[5]"
      ],
      "execution_count": null,
      "outputs": []
    },
    {
      "cell_type": "code",
      "metadata": {
        "colab_type": "code",
        "id": "EHEegWTOJXWK",
        "colab": {}
      },
      "source": [
        "data['Age'] = data['Age'].fillna(value=data['Age'].mean())\n",
        "data['Fare'] = data['Fare'].fillna(value=data['Fare'].mean())"
      ],
      "execution_count": null,
      "outputs": []
    },
    {
      "cell_type": "code",
      "metadata": {
        "colab_type": "code",
        "id": "jSIS7m9RJXWO",
        "colab": {}
      },
      "source": [
        "data.iloc[5]"
      ],
      "execution_count": null,
      "outputs": []
    },
    {
      "cell_type": "markdown",
      "metadata": {
        "id": "d_oQnE9JhlWW",
        "colab_type": "text"
      },
      "source": [
        "### Pandas + numpy"
      ]
    },
    {
      "cell_type": "markdown",
      "metadata": {
        "colab_type": "text",
        "id": "Wk8fA8HBJXWs"
      },
      "source": [
        "The important part: as pandas uses numpy under the hood, most of numpy functionality works with dataframes, as you can get their numpy representation with `.values` (most numpy functions will even work on pure pandas objects):"
      ]
    },
    {
      "cell_type": "code",
      "metadata": {
        "colab_type": "code",
        "id": "uE53osRgJXWs",
        "colab": {}
      },
      "source": [
        "# calling np.max on a pure pandas column:\n",
        "print(\"Max ticket price: \", np.max(data[\"Fare\"]))\n",
        "\n",
        "# calling np.argmax on a numpy representation of a pandas column\n",
        "# to get its positional index:\n",
        "print(\"\\nThe guy who paid the most:\\n\",\n",
        "      data.iloc[\n",
        "          np.argmax(data[\"Fare\"].values)\n",
        "      ])"
      ],
      "execution_count": null,
      "outputs": []
    },
    {
      "cell_type": "code",
      "metadata": {
        "id": "X5l90RFPN6SL",
        "colab_type": "code",
        "colab": {}
      },
      "source": [
        "# numpy works only with positional index:\n",
        "print(data['Fare'].values.argmax())\n",
        "#     ^^^^^^^^^^^^^^^^^^^\n",
        "#     this part returns a numpy array, argmax of which we are calculating\n",
        "\n",
        "\n",
        "# in pandas you can ask for the index (i.e. value of the index column)\n",
        "# of the maximal element like this:\n",
        "print(data[\"Fare\"].idxmax())"
      ],
      "execution_count": null,
      "outputs": []
    },
    {
      "cell_type": "markdown",
      "metadata": {
        "colab_type": "text",
        "id": "T_xqJK6UJXW6"
      },
      "source": [
        "### Your turn\n",
        "\n",
        "Use numpy and pandas to answer a few questions about data"
      ]
    },
    {
      "cell_type": "code",
      "metadata": {
        "colab_type": "code",
        "id": "p7O68NpyJXWw",
        "colab": {}
      },
      "source": [
        "# your code: compute mean passenger age and find the oldest guy on the ship\n",
        "<YOUR CODE>"
      ],
      "execution_count": null,
      "outputs": []
    },
    {
      "cell_type": "code",
      "metadata": {
        "colab_type": "code",
        "id": "h6eXINxLJXW6",
        "colab": {}
      },
      "source": [
        "# who on average paid more for their ticket, men or women?\n",
        "\n",
        "mean_fare_men = <YOUR CODE>\n",
        "mean_fare_women = <YOUR CODE>\n",
        "\n",
        "print(mean_fare_men, mean_fare_women)"
      ],
      "execution_count": null,
      "outputs": []
    },
    {
      "cell_type": "code",
      "metadata": {
        "colab_type": "code",
        "id": "EyDEaifrJXW8",
        "colab": {}
      },
      "source": [
        "# who is more likely to survive: a child (<18 yo) or an adult?\n",
        "\n",
        "child_survival_rate = <YOUR CODE>\n",
        "adult_survival_rate = <YOUR CODE>\n",
        "\n",
        "print(child_survival_rate, adult_survival_rate)"
      ],
      "execution_count": null,
      "outputs": []
    },
    {
      "cell_type": "markdown",
      "metadata": {
        "colab_type": "text",
        "id": "ASsnUCRMJXWS"
      },
      "source": [
        "More pandas: \n",
        "* Official [tutorials](https://pandas.pydata.org/pandas-docs/stable/tutorials.html), including this [10 minutes to pandas](https://pandas.pydata.org/pandas-docs/stable/10min.html#min)\n",
        "* Bunch of cheat sheets awaits just one google query away from you (e.g. [basics](http://datacamp-community-prod.s3.amazonaws.com/dbed353d-2757-4617-8206-8767ab379ab3), [combining datasets](https://pbs.twimg.com/media/C65MaMpVwAA3v0A.jpg) and so on). "
      ]
    },
    {
      "cell_type": "markdown",
      "metadata": {
        "colab_type": "text",
        "id": "yt0lgtQox2e1"
      },
      "source": [
        "## Part IV: plots and matplotlib"
      ]
    },
    {
      "cell_type": "markdown",
      "metadata": {
        "colab_type": "text",
        "id": "Odx24QWTJXW-"
      },
      "source": [
        "Using python to visualize the data is covered by yet another library: `matplotlib`.\n",
        "\n",
        "Just like python itself, matplotlib has an awesome tendency of keeping simple things simple while still allowing you to write complicated stuff with convenience (e.g. super-detailed plots or custom animations)."
      ]
    },
    {
      "cell_type": "code",
      "metadata": {
        "colab_type": "code",
        "id": "7QxD0DoLJXW-",
        "scrolled": true,
        "colab": {}
      },
      "source": [
        "import matplotlib.pyplot as plt\n",
        "%matplotlib inline  \n",
        "# ^-- this \"magic\" selects specific matplotlib backend suitable for\n",
        "# jupyter notebooks. For more info see:\n",
        "# https://ipython.readthedocs.io/en/stable/interactive/plotting.html#id1\n",
        "# (actually it's the default in google colab)\n",
        "\n",
        "# line plot\n",
        "plt.plot([0,1,2,3,4,5],[0,1,4,9,16,25]);"
      ],
      "execution_count": null,
      "outputs": []
    },
    {
      "cell_type": "code",
      "metadata": {
        "colab_type": "code",
        "id": "huybuiQkJXXB",
        "colab": {}
      },
      "source": [
        "#scatter-plot\n",
        "x = np.arange(5)\n",
        "print(\"x =\", x)\n",
        "print(\"x**2 =\", x**2)\n",
        "print(\"plotting x**2 vs x:\")\n",
        "plt.scatter(x, x**2)\n",
        "plt.show()  # show the first plot to begin drawing the next one\n",
        "\n",
        "plt.plot(x, x**2);"
      ],
      "execution_count": null,
      "outputs": []
    },
    {
      "cell_type": "code",
      "metadata": {
        "colab_type": "code",
        "id": "Q4Bj57P_JXXF",
        "colab": {}
      },
      "source": [
        "# draw a scatter plot with custom markers and colors\n",
        "plt.scatter([1, 1, 2, 3, 4, 4.5], [3, 2, 2, 5, 15, 24],\n",
        "            c=[\"red\", \"blue\", \"orange\", \"green\", \"cyan\", \"gray\"],\n",
        "            marker=\"x\")\n",
        "\n",
        "# without plt.show(), several plots will be drawn on top of one another\n",
        "plt.plot([0, 1, 2, 3, 4, 5], [0, 1, 4, 9, 16, 25], c=\"black\")\n",
        "\n",
        "# adding more sugar\n",
        "plt.title(\"Conspiracy theory proven!!!\")\n",
        "plt.xlabel(\"Per capita alcohol consumption\")\n",
        "plt.ylabel(\"# Layers in state of the art image classifier\");\n",
        "\n",
        "# fun with correlations: http://bit.ly/1FcNnWF"
      ],
      "execution_count": null,
      "outputs": []
    },
    {
      "cell_type": "code",
      "metadata": {
        "colab_type": "code",
        "id": "fz5WDA4YJXXI",
        "colab": {}
      },
      "source": [
        "# histogram - showing data density\n",
        "plt.hist([0,1,1,1,2,2,3,3,3,3,3,4,4,5,5,5,6,7,7,8,9,10])\n",
        "plt.show()\n",
        "\n",
        "plt.hist([0,1,1,1,2,2,3,3,3,3,3,4,4,5,5,5,6,7,7,8,9,10], bins=5);"
      ],
      "execution_count": null,
      "outputs": []
    },
    {
      "cell_type": "code",
      "metadata": {
        "id": "_5X-UQAKRefF",
        "colab_type": "code",
        "colab": {}
      },
      "source": [
        "# you can also specify bin edges instead of just number of bins:\n",
        "\n",
        "x = np.random.normal(size=10000)\n",
        "bins = np.linspace(-3, 3, 101)\n",
        "plt.hist(x, bins=bins);"
      ],
      "execution_count": null,
      "outputs": []
    },
    {
      "cell_type": "code",
      "metadata": {
        "colab_type": "code",
        "id": "XmapamrGJXXM",
        "colab": {}
      },
      "source": [
        "# plot a histogram of age and a histogram of ticket fares on separate plots\n",
        "\n",
        "<YOUR CODE>\n",
        "\n",
        "#bonus: use context help to see if there is a way to draw a 2D histogram of age vs fare."
      ],
      "execution_count": null,
      "outputs": []
    },
    {
      "cell_type": "code",
      "metadata": {
        "colab_type": "code",
        "id": "QIzNFjffJXXP",
        "colab": {}
      },
      "source": [
        "# make a scatter plot of passenger age vs ticket fare\n",
        "\n",
        "<YOUR CODE>\n",
        "\n",
        "# kudos if you add separate colors for men and women"
      ],
      "execution_count": null,
      "outputs": []
    },
    {
      "cell_type": "markdown",
      "metadata": {
        "colab_type": "text",
        "id": "bHDcDWFKJXXS"
      },
      "source": [
        "* Extended [tutorial](https://matplotlib.org/2.0.2/users/pyplot_tutorial.html)\n",
        "* Other libraries for more sophisticated stuff: [Seaborn](https://seaborn.pydata.org/), [Plotly](https://plot.ly/python/), and [Bokeh](https://bokeh.pydata.org/en/latest/)"
      ]
    },
    {
      "cell_type": "markdown",
      "metadata": {
        "colab_type": "text",
        "id": "ARBewmPBye4-"
      },
      "source": [
        "## Part V (final): machine learning with scikit-learn"
      ]
    },
    {
      "cell_type": "markdown",
      "metadata": {
        "colab_type": "text",
        "id": "Hpc3yTBjJXXT"
      },
      "source": [
        "<img src='https://imgs.xkcd.com/comics/machine_learning.png' width=320px>\n",
        "\n",
        "Scikit-learn is _the_ tool for simple machine learning pipelines. \n",
        "\n",
        "It's a single library that unites a whole bunch of models under the common interface:\n",
        "* Create:__ `model = sklearn.whatever.ModelNameHere(parameters_if_any)`__\n",
        "* Train:__ `model.fit(X,y)`__\n",
        "* Predict:__ `model.predict(X_test)`__\n",
        "\n",
        "It also contains utilities for feature extraction, quality estimation or cross-validation."
      ]
    },
    {
      "cell_type": "code",
      "metadata": {
        "colab_type": "code",
        "id": "JhbbBk93JXXV",
        "colab": {}
      },
      "source": [
        "from sklearn.neighbors import KNeighborsClassifier\n",
        "from sklearn.metrics import accuracy_score\n",
        "\n",
        "features = data[[\"Fare\", \"SibSp\"]].copy()\n",
        "answers = data[\"Survived\"]\n",
        "\n",
        "model = KNeighborsClassifier(n_neighbors=100)\n",
        "model.fit(features[:-100], answers[:-100])\n",
        "\n",
        "test_predictions = model.predict(features[-100:])\n",
        "print(\"Test accuracy:\", accuracy_score(answers[-100:], test_predictions))"
      ],
      "execution_count": null,
      "outputs": []
    },
    {
      "cell_type": "markdown",
      "metadata": {
        "colab_type": "text",
        "id": "Wxe6EeCSJXXY"
      },
      "source": [
        "__Final quest:__ tune n_neighbors and add more features to achieve accuracy of at least 0.75\n",
        "\n",
        "\n",
        "__Hint 1:__ for string features like \"Sex\" or \"Embarked\" you will have to compute some kind of numeric representation.\n",
        "For example, 1 if male and 0 if female or vice versa \n",
        "\n",
        "__Hint 2:__ features like \"Age\" contain NaN values. You can replace them with `replaced = data[\"Age\"].fillna(some_number)`."
      ]
    },
    {
      "cell_type": "markdown",
      "metadata": {
        "colab_type": "text",
        "id": "WcdyuBflJXXZ"
      },
      "source": [
        "* Sklearn [tutorials](http://scikit-learn.org/stable/tutorial/index.html)\n",
        "* Sklearn [examples](http://scikit-learn.org/stable/auto_examples/index.html)\n",
        "* Sklearn [cheat sheet](http://scikit-learn.org/stable/_static/ml_map.png)"
      ]
    },
    {
      "cell_type": "markdown",
      "metadata": {
        "colab_type": "text",
        "id": "toDL-cAILb8H"
      },
      "source": [
        "```\n",
        "```\n",
        "```\n",
        "```"
      ]
    },
    {
      "cell_type": "markdown",
      "metadata": {
        "colab_type": "text",
        "id": "_gdvIZBILdoo"
      },
      "source": [
        "## Bonus part"
      ]
    },
    {
      "cell_type": "markdown",
      "metadata": {
        "colab_type": "text",
        "id": "4z88BXYDLunO"
      },
      "source": [
        "### Pandas: adding new columns"
      ]
    },
    {
      "cell_type": "markdown",
      "metadata": {
        "colab_type": "text",
        "id": "fAqszFVKMHCG"
      },
      "source": [
        "To define a new column in a dataframe simply assign to it (if such a column exists it will get overwritten):"
      ]
    },
    {
      "cell_type": "code",
      "metadata": {
        "colab_type": "code",
        "id": "jTf14P-ELzXD",
        "colab": {}
      },
      "source": [
        "data['CabinUnknown'] = data.Cabin.isna()\n",
        "data.head()"
      ],
      "execution_count": null,
      "outputs": []
    },
    {
      "cell_type": "markdown",
      "metadata": {
        "colab_type": "text",
        "id": "rLtCIDVCMx3t"
      },
      "source": [
        "Be sure to use the approach with a `['ColumnName']` , rather than `.ColumnName`, otherwize it won't work:"
      ]
    },
    {
      "cell_type": "code",
      "metadata": {
        "colab_type": "code",
        "id": "ctpV_MWvMh6b",
        "colab": {}
      },
      "source": [
        "data.this_will_not_work = data.Age**2\n",
        "data.head()"
      ],
      "execution_count": null,
      "outputs": []
    },
    {
      "cell_type": "markdown",
      "metadata": {
        "colab_type": "text",
        "id": "ErWMVXfvcgrZ"
      },
      "source": [
        "### Pandas: one-hot encoding"
      ]
    },
    {
      "cell_type": "code",
      "metadata": {
        "colab_type": "code",
        "id": "YBfOdHGGdCMC",
        "colab": {}
      },
      "source": [
        "pd.get_dummies(data.Embarked, prefix='Embarked').head()\n",
        "# added .head() for a more compact output"
      ],
      "execution_count": null,
      "outputs": []
    },
    {
      "cell_type": "markdown",
      "metadata": {
        "colab_type": "text",
        "id": "ZxqeVSdKd0DT"
      },
      "source": [
        "### Pandas: merging tables"
      ]
    },
    {
      "cell_type": "code",
      "metadata": {
        "colab_type": "code",
        "id": "AP9PrE8qdyI_",
        "colab": {}
      },
      "source": [
        "data_extended = pd.concat([\n",
        "                      data,\n",
        "                      pd.get_dummies(data.Embarked, prefix='Embarked')\n",
        "                    ], axis=1)\n",
        "data_extended.head()"
      ],
      "execution_count": null,
      "outputs": []
    },
    {
      "cell_type": "markdown",
      "metadata": {
        "colab_type": "text",
        "id": "QeaeflaAeQ7W"
      },
      "source": [
        "### Pandas: groupby"
      ]
    },
    {
      "cell_type": "markdown",
      "metadata": {
        "colab_type": "text",
        "id": "fP6HFtuRhwPD"
      },
      "source": [
        "This function provides a neat way to calculate some statistics for groups of entries with some common feature value."
      ]
    },
    {
      "cell_type": "code",
      "metadata": {
        "colab_type": "code",
        "id": "y4QeQUKmiDSZ",
        "colab": {}
      },
      "source": [
        "g = data.groupby('Embarked')\n",
        "# Now `g` is an iterable of dataframes split based on the values\n",
        "# in the 'Embarked' column:\n",
        "\n",
        "for embarked, group in g:\n",
        "  print(embarked, type(group), group.shape)"
      ],
      "execution_count": null,
      "outputs": []
    },
    {
      "cell_type": "code",
      "metadata": {
        "colab_type": "code",
        "id": "cZlGdJ3-jo05",
        "colab": {}
      },
      "source": [
        "# You can calculate things on the groups simultaniously:\n",
        "\n",
        "g.mean()"
      ],
      "execution_count": null,
      "outputs": []
    },
    {
      "cell_type": "code",
      "metadata": {
        "colab_type": "code",
        "id": "P-3FFL-hj8qP",
        "colab": {}
      },
      "source": [
        "g.count() # this calculates the number of valid entries (excluding nans)"
      ],
      "execution_count": null,
      "outputs": []
    },
    {
      "cell_type": "code",
      "metadata": {
        "colab_type": "code",
        "id": "c4KA9HsekPiA",
        "colab": {}
      },
      "source": [
        "# You can also access individual columns:\n",
        "g.Fare.max()"
      ],
      "execution_count": null,
      "outputs": []
    },
    {
      "cell_type": "markdown",
      "metadata": {
        "colab_type": "text",
        "id": "WRhTgAVHekYH"
      },
      "source": [
        "### Pandas: cut and qcut"
      ]
    },
    {
      "cell_type": "markdown",
      "metadata": {
        "colab_type": "text",
        "id": "c42YbZKlksNz"
      },
      "source": [
        "These functions let us split data into bins: `cut` makes linear splits, while `qcut` makes quantile-based splits. They both return a column of bins to which current entry belongs:"
      ]
    },
    {
      "cell_type": "code",
      "metadata": {
        "colab_type": "code",
        "id": "UHMNswNblHeB",
        "colab": {}
      },
      "source": [
        "pd.cut(data.Age, 3).head() # '.head()' added for a more compact output"
      ],
      "execution_count": null,
      "outputs": []
    },
    {
      "cell_type": "code",
      "metadata": {
        "colab_type": "code",
        "id": "GJGJhcqUlgKC",
        "colab": {}
      },
      "source": [
        "pd.qcut(data.Age, 3).head() # '.head()' added for a more compact output"
      ],
      "execution_count": null,
      "outputs": []
    },
    {
      "cell_type": "markdown",
      "metadata": {
        "colab_type": "text",
        "id": "pCGLUZ8CmjD0"
      },
      "source": [
        "### Your turn"
      ]
    },
    {
      "cell_type": "markdown",
      "metadata": {
        "colab_type": "text",
        "id": "G6ryMww4mlK-"
      },
      "source": [
        "Use `cut` and `groupby` to calculate survival rate for 3 age categories.\n",
        "\n",
        "**Hint:** you need to add the result of `cut` as a new column"
      ]
    },
    {
      "cell_type": "code",
      "metadata": {
        "colab_type": "code",
        "id": "_VD_cgA8m6WT",
        "colab": {}
      },
      "source": [
        "<YOUR CODE HERE>"
      ],
      "execution_count": null,
      "outputs": []
    },
    {
      "cell_type": "markdown",
      "metadata": {
        "colab_type": "text",
        "id": "UYc963-eepev"
      },
      "source": [
        "### Pandas: combining the tricks (survival vs ticket fare)"
      ]
    },
    {
      "cell_type": "code",
      "metadata": {
        "colab_type": "code",
        "id": "8aA6C8vbLdJk",
        "colab": {}
      },
      "source": [
        "from matplotlib.ticker import ScalarFormatter\n",
        "\n",
        "data['qFare'] = pd.qcut(data.Fare, 20)\n",
        "\n",
        "sur_vs_price = data.groupby('qFare').Survived.mean()\n",
        "sur_vs_price_e = data.groupby('qFare').Survived.std() \\\n",
        "                        / data.groupby('qFare').Survived.count()**0.5\n",
        "\n",
        "fig = plt.figure(figsize=(16, 9))\n",
        "plt.errorbar(x=sur_vs_price.index.categories.mid,\n",
        "             y=sur_vs_price.values,\n",
        "             yerr=sur_vs_price_e.values,\n",
        "             xerr=(\n",
        "                 sur_vs_price.index.categories.right - \n",
        "                 sur_vs_price.index.categories.left\n",
        "               ) / 2,\n",
        "             fmt='o')\n",
        "plt.gca().set_xscale('log')\n",
        "plt.gca().xaxis.set_major_formatter(ScalarFormatter())\n",
        "plt.gca().set_xticks(\n",
        "              list(range(3, 10)) +\n",
        "              list(range(10, 100, 10)) +\n",
        "              list(range(100, 700, 100))\n",
        "            )\n",
        "\n",
        "plt.xlabel('Fare')\n",
        "plt.ylabel('Survival probability');"
      ],
      "execution_count": null,
      "outputs": []
    }
  ]
}
